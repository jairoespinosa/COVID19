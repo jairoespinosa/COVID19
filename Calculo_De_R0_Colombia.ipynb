{
  "nbformat": 4,
  "nbformat_minor": 0,
  "metadata": {
    "colab": {
      "name": "Calculo_De_R0_Colombia.ipynb",
      "provenance": [],
      "collapsed_sections": [],
      "include_colab_link": true
    },
    "kernelspec": {
      "name": "python3",
      "display_name": "Python 3"
    }
  },
  "cells": [
    {
      "cell_type": "markdown",
      "metadata": {
        "id": "view-in-github",
        "colab_type": "text"
      },
      "source": [
        "<a href=\"https://colab.research.google.com/github/jairoespinosa/COVID19/blob/master/Calculo_De_R0_Colombia.ipynb\" target=\"_parent\"><img src=\"https://colab.research.google.com/assets/colab-badge.svg\" alt=\"Open In Colab\"/></a>"
      ]
    },
    {
      "cell_type": "markdown",
      "metadata": {
        "id": "hzT__1zYYcxC",
        "colab_type": "text"
      },
      "source": [
        "# Análisis diario de la epidemia COVID 19 en Colombia "
      ]
    },
    {
      "cell_type": "code",
      "metadata": {
        "id": "km5PR8DkPWhu",
        "colab_type": "code",
        "colab": {}
      },
      "source": [
        ""
      ],
      "execution_count": 0,
      "outputs": []
    },
    {
      "cell_type": "markdown",
      "metadata": {
        "id": "O-7sct8uMKFy",
        "colab_type": "text"
      },
      "source": [
        "Preparado por:\n",
        "\n",
        "Jairo Espinosa\n",
        "\n",
        "Profesor Universidad Nacional de Colombia-Sede Medellín\n",
        "\n",
        "Grupo GAUNAL\n",
        "\n",
        "Laboratorio de Gestión de Sistemas en Tiempo Real\n",
        "\n",
        "Correo electrónico: jespinov@unal.edu.co\n",
        "\n",
        "Twitter: @jairojespinosa"
      ]
    },
    {
      "cell_type": "code",
      "metadata": {
        "id": "QvFqg2lpoMyO",
        "colab_type": "code",
        "colab": {
          "base_uri": "https://localhost:8080/",
          "height": 54
        },
        "outputId": "eeab0e8a-a65f-4a8b-fcd2-59701c9a32f0"
      },
      "source": [
        "!pip install -q bokeh==1.3.4"
      ],
      "execution_count": 1,
      "outputs": [
        {
          "output_type": "stream",
          "text": [
            "\u001b[K     |████████████████████████████████| 17.8MB 223kB/s \n",
            "\u001b[?25h  Building wheel for bokeh (setup.py) ... \u001b[?25l\u001b[?25hdone\n"
          ],
          "name": "stdout"
        }
      ]
    },
    {
      "cell_type": "code",
      "metadata": {
        "id": "pdFb0CYIXRzb",
        "colab_type": "code",
        "colab": {}
      },
      "source": [
        "#@title \n",
        "from scipy.integrate import odeint\n",
        "import datetime as datetime\n",
        "import numpy as np\n",
        "import pandas as pd\n",
        "import matplotlib.pyplot as plt\n",
        "import pandas as pd\n",
        "import scipy.signal as sgnl\n",
        "# Bokeh libraries\n",
        "from bokeh.io import output_file, output_notebook\n",
        "from bokeh.plotting import figure, show\n",
        "from bokeh.models import ColumnDataSource\n",
        "from bokeh.layouts import row, column, gridplot\n",
        "from bokeh.models.widgets import Tabs, Panel\n",
        "from bokeh.palettes import Category20c\n",
        "from bokeh.transform import cumsum\n",
        "\n",
        "data = pd.read_json('https://www.datos.gov.co/resource/gt2j-8ykr.json?$limit=5000')\n",
        "\n",
        "\n",
        "\n",
        "\n",
        "data_Hosp = np.array([['Departamento','Adultos','Pediátrica','Cuidado Intensivo Adulto','Cuidado Intensivo Pediátrico','Cuidado Intermedio Adulto','Cuidado Intermedio Pediátrico','Total general'],\n",
        "['Amazonas', 68, 35, 0, 0, 8, 3, 114],\n",
        "['Antioquia', 5383, 1173 , 509, 67, 471, 50, 7653],\n",
        "['Arauca', 156, 70, 4, 0, 8,0, 238],\n",
        "['Atlántico', 3043, 645, 498, 108, 350, 84, 4728],\n",
        "['Bogotá D.C', 6517   , 1766   , 967   , 206   , 576   , 102   , 10134   ],\n",
        "['Bolívar', 1662   , 366   , 234   , 55   , 136   , 34   , 2487   ],\n",
        "['Boyacá', 784   , 190   , 80   , 10   , 35   , 2   , 1101   ],\n",
        "['Caldas', 1054   , 219   , 136   , 10   , 113   , 11   , 1543],   \n",
        "['Caquetá', 266   , 106   , 20   , 0     , 2   , 0     , 394  ], \n",
        "['Casanare', 285   , 92   , 17   , 2   , 23   , 2   , 421   ],\n",
        "['Cauca', 676   , 214   , 84   , 19   , 50   , 9   , 1052   ],\n",
        "['Cesar', 1305   , 480   , 207   , 36   , 97   , 25   , 2150   ],\n",
        "['Chocó', 358   , 189   , 27   ,0, 22   , 0     , 596   ],\n",
        "['Córdoba', 1193   , 442   , 195   , 47   , 75   , 61   , 2013   ],\n",
        "['Cundinamarca', 1.449   , 404   , 168   , 13   , 151   , 6   , 2191   ],\n",
        "['Guainía', 16   , 15   ,0,0,0,0, 31   ],\n",
        "['Guaviare', 64   , 28   ,0,0, 0     ,0, 92   ],\n",
        "['Huila', 892   , 228   , 140   , 24   , 36   , 9   , 1329   ],\n",
        "['La Guajira', 539   , 303   , 78   , 24   , 32   , 19   , 995   ],\n",
        "['Magdalena', 1218   , 351   , 97   , 19   , 63   , 16   , 1764   ],\n",
        "['Meta', 718   , 178   , 67   , 6   , 51   , 4   , 1024   ],\n",
        "['Nariño', 1092   , 263   , 132   , 16   , 50   , 5   , 1558   ],\n",
        "['Norte de Santander', 961   , 252   , 141   , 28   , 61   , 13   , 1456   ],\n",
        "['Putumayo', 174   , 80   , 10   , 0     , 3   , 0     , 267 ],  \n",
        "['Quindío', 639   , 80   , 49   , 1   , 24   , 1   , 794   ],\n",
        "['Risaralda', 1003   , 135   , 90   , 13   , 100   , 15   , 1356   ],\n",
        "['San Andrés y Providencia', 65   , 15   , 5   ,0, 3,0, 88   ],\n",
        "['Santander', 1991   , 484   , 251   , 56   , 124   , 33   , 2939   ],\n",
        "['Sucre', 904   , 343   , 159   , 30   , 43   , 11   , 1490   ],\n",
        "['Tolima', 1134   , 231   , 215   , 15   , 115   , 9   , 1719   ],\n",
        "['Valle del cauca', 4315   , 738   , 766   , 91   , 338   , 38   , 6286   ],\n",
        "['Vaupés', 5   , 5   ,0,0,0,0, 10   ],\n",
        "['Vichada', 39   , 24   , 0     , 0     , 1   , 1   , 65   ]])\n",
        "\n",
        "#dicrt=np.array([['Amazonas', 'Antioquia','Arauca','Atlántico','Barranquilla D.E.','Bogotá D.C.','Bolívar', 'Boyacá','Buenaventura D.E.','Caldas','Caquetá','Cartagena D.T. y C','Casanare', 'Cauca','Cesar','Chocó','Córdoba','Cundinamarca','Guainía','Guaviare','Huila','La Guajira','Magdalena', 'Meta','Nariño','Norte de Santander','Putumayo','Quindí­o','Risaralda','San Andrés', 'Santa Marta D.T. y C.','Santander','Sucre','Tolima','Valle del Cauca','Vaupés','Vichada'],\n",
        "#['Amazonas', 'Antioquia','Arauca','Atlántico','Atlántico','Bogotá D.C','Bolívar','Boyacá','Valle del cauca','Caldas','Caquetá', 'Bolívar','Casanare', 'Cauca','Cesar','Chocó','Córdoba','Cundinamarca','Guainía', 'Guaviare', 'Huila','La Guajira','Magdalena','Meta','Nariño','Norte de Santander','Putumayo', 'Quindío','Risaralda','San Andrés y Providencia', 'Magdalena','Santander','Sucre','Tolima','Valle del cauca','Vaupés','Vichada']])\n",
        "      \n",
        "df_HospCapacity = pd.DataFrame(data=data_Hosp[1:,1:],index=data_Hosp[1:,0],columns=data_Hosp[0,1:])"
      ],
      "execution_count": 0,
      "outputs": []
    },
    {
      "cell_type": "code",
      "metadata": {
        "id": "ggR0jwzseeA6",
        "colab_type": "code",
        "colab": {
          "base_uri": "https://localhost:8080/",
          "height": 305
        },
        "outputId": "88ecb5a4-cc72-4639-91af-3dd7b54f7229"
      },
      "source": [
        "data.head()"
      ],
      "execution_count": 3,
      "outputs": [
        {
          "output_type": "execute_result",
          "data": {
            "text/html": [
              "<div>\n",
              "<style scoped>\n",
              "    .dataframe tbody tr th:only-of-type {\n",
              "        vertical-align: middle;\n",
              "    }\n",
              "\n",
              "    .dataframe tbody tr th {\n",
              "        vertical-align: top;\n",
              "    }\n",
              "\n",
              "    .dataframe thead th {\n",
              "        text-align: right;\n",
              "    }\n",
              "</style>\n",
              "<table border=\"1\" class=\"dataframe\">\n",
              "  <thead>\n",
              "    <tr style=\"text-align: right;\">\n",
              "      <th></th>\n",
              "      <th>id_de_caso</th>\n",
              "      <th>fecha_de_notificaci_n</th>\n",
              "      <th>codigo_divipola</th>\n",
              "      <th>ciudad_de_ubicaci_n</th>\n",
              "      <th>departamento</th>\n",
              "      <th>atenci_n</th>\n",
              "      <th>edad</th>\n",
              "      <th>sexo</th>\n",
              "      <th>tipo</th>\n",
              "      <th>estado</th>\n",
              "      <th>pa_s_de_procedencia</th>\n",
              "      <th>fis</th>\n",
              "      <th>fecha_de_muerte</th>\n",
              "      <th>fecha_diagnostico</th>\n",
              "      <th>fecha_recuperado</th>\n",
              "      <th>fecha_reporte_web</th>\n",
              "    </tr>\n",
              "  </thead>\n",
              "  <tbody>\n",
              "    <tr>\n",
              "      <th>0</th>\n",
              "      <td>1</td>\n",
              "      <td>2020-03-02T00:00:00.000</td>\n",
              "      <td>11001</td>\n",
              "      <td>Bogotá D.C.</td>\n",
              "      <td>Bogotá D.C.</td>\n",
              "      <td>Recuperado</td>\n",
              "      <td>19</td>\n",
              "      <td>F</td>\n",
              "      <td>Importado</td>\n",
              "      <td>Leve</td>\n",
              "      <td>ITALIA</td>\n",
              "      <td>2020-02-27T00:00:00.000</td>\n",
              "      <td>-   -</td>\n",
              "      <td>2020-03-06T00:00:00.000</td>\n",
              "      <td>2020-03-13T00:00:00.000</td>\n",
              "      <td>2020-03-06T00:00:00.000</td>\n",
              "    </tr>\n",
              "    <tr>\n",
              "      <th>1</th>\n",
              "      <td>2</td>\n",
              "      <td>2020-03-06T00:00:00.000</td>\n",
              "      <td>76111</td>\n",
              "      <td>Guadalajara de Buga</td>\n",
              "      <td>Valle del Cauca</td>\n",
              "      <td>Recuperado</td>\n",
              "      <td>34</td>\n",
              "      <td>M</td>\n",
              "      <td>Importado</td>\n",
              "      <td>Leve</td>\n",
              "      <td>ESPAÑA</td>\n",
              "      <td>2020-03-04T00:00:00.000</td>\n",
              "      <td>-   -</td>\n",
              "      <td>2020-03-09T00:00:00.000</td>\n",
              "      <td>2020-03-19T00:00:00.000</td>\n",
              "      <td>2020-03-09T00:00:00.000</td>\n",
              "    </tr>\n",
              "    <tr>\n",
              "      <th>2</th>\n",
              "      <td>3</td>\n",
              "      <td>2020-03-07T00:00:00.000</td>\n",
              "      <td>5001</td>\n",
              "      <td>Medellín</td>\n",
              "      <td>Antioquia</td>\n",
              "      <td>Recuperado</td>\n",
              "      <td>50</td>\n",
              "      <td>F</td>\n",
              "      <td>Importado</td>\n",
              "      <td>Leve</td>\n",
              "      <td>ESPAÑA</td>\n",
              "      <td>2020-02-29T00:00:00.000</td>\n",
              "      <td>-   -</td>\n",
              "      <td>2020-03-09T00:00:00.000</td>\n",
              "      <td>2020-03-15T00:00:00.000</td>\n",
              "      <td>2020-03-09T00:00:00.000</td>\n",
              "    </tr>\n",
              "    <tr>\n",
              "      <th>3</th>\n",
              "      <td>4</td>\n",
              "      <td>2020-03-09T00:00:00.000</td>\n",
              "      <td>5001</td>\n",
              "      <td>Medellín</td>\n",
              "      <td>Antioquia</td>\n",
              "      <td>Recuperado</td>\n",
              "      <td>55</td>\n",
              "      <td>M</td>\n",
              "      <td>Relacionado</td>\n",
              "      <td>Leve</td>\n",
              "      <td>COLOMBIA</td>\n",
              "      <td>2020-03-06T00:00:00.000</td>\n",
              "      <td>-   -</td>\n",
              "      <td>2020-03-11T00:00:00.000</td>\n",
              "      <td>2020-03-26T00:00:00.000</td>\n",
              "      <td>2020-03-11T00:00:00.000</td>\n",
              "    </tr>\n",
              "    <tr>\n",
              "      <th>4</th>\n",
              "      <td>5</td>\n",
              "      <td>2020-03-09T00:00:00.000</td>\n",
              "      <td>5001</td>\n",
              "      <td>Medellín</td>\n",
              "      <td>Antioquia</td>\n",
              "      <td>Recuperado</td>\n",
              "      <td>25</td>\n",
              "      <td>M</td>\n",
              "      <td>Relacionado</td>\n",
              "      <td>Leve</td>\n",
              "      <td>COLOMBIA</td>\n",
              "      <td>2020-03-08T00:00:00.000</td>\n",
              "      <td>-   -</td>\n",
              "      <td>2020-03-11T00:00:00.000</td>\n",
              "      <td>2020-03-23T00:00:00.000</td>\n",
              "      <td>2020-03-11T00:00:00.000</td>\n",
              "    </tr>\n",
              "  </tbody>\n",
              "</table>\n",
              "</div>"
            ],
            "text/plain": [
              "   id_de_caso  ...        fecha_reporte_web\n",
              "0           1  ...  2020-03-06T00:00:00.000\n",
              "1           2  ...  2020-03-09T00:00:00.000\n",
              "2           3  ...  2020-03-09T00:00:00.000\n",
              "3           4  ...  2020-03-11T00:00:00.000\n",
              "4           5  ...  2020-03-11T00:00:00.000\n",
              "\n",
              "[5 rows x 16 columns]"
            ]
          },
          "metadata": {
            "tags": []
          },
          "execution_count": 3
        }
      ]
    },
    {
      "cell_type": "code",
      "metadata": {
        "id": "PDIHWfW3Qkd5",
        "colab_type": "code",
        "colab": {
          "base_uri": "https://localhost:8080/",
          "height": 1000
        },
        "cellView": "both",
        "outputId": "c63d909b-e872-476e-98e9-912518654019"
      },
      "source": [
        "#@title Nombre del Departamento a Consultar { run: \"auto\" }\n",
        "\n",
        "\n",
        "\n",
        "Departamento = \"Huila\"  #@param ['Amazonas', 'Antioquia','Atlántico','Barranquilla D.E.','Bogotá D.C.','Bolívar', 'Boyacá','Buenaventura D.E.','Caldas','Caquetá','Cartagena D.T. y C','Casanare', 'Cauca','Cesar','Córdoba','Cundinamarca','Chocó','Huila','La Guajira','Magdalena', 'Meta','Nariño','Norte de Santander','Quindí­o','Risaralda','San Andrés', 'Santa Marta D.T. y C.','Santander','Sucre','Tolima','Valle del Cauca']\n",
        "\n",
        "now = datetime.datetime.now()\n",
        "print('Fecha y hora del Reporte : ')\n",
        "print(now.strftime('%Y-%m-%d %H:%M:%S')+' UTC')\n",
        "\n",
        "if Departamento == 'Colombia':\n",
        "  print('En Colombia hay: ')\n",
        "  select_department = data\n",
        "  select_department_tipo_Imp = data.loc[(data['tipo']=='Importado')]\n",
        "  select_department_tipo = data.loc[(data['tipo']!='Importado')]\n",
        "  select_department_fallec = data.loc[(data['atenci_n'] =='Fallecido')]\n",
        "  select_department_recup = data.loc[(data['atenci_n'] =='Recuperado')]\n",
        "  select_department_hospit = data.loc[(data['atenci_n'] =='Hospital')]\n",
        "  select_department_UCI = data.loc[(data['atenci_n'] =='Hospital UCI')]\n",
        "  select_department_En_Casa = data.loc[(data['atenci_n'] =='Casa')]\n",
        "else:\n",
        "  select_department = data.loc[data['departamento'] == Departamento]\n",
        "  select_department_tipo_Imp = data.loc[(data['departamento'] == Departamento) & (data['tipo']=='Importado')]\n",
        "  select_department_tipo = data.loc[(data['departamento'] == Departamento) & (data['tipo']!='Importado')]\n",
        "  select_department_fallec = data.loc[(data['departamento'] == Departamento) & (data['atenci_n'] =='Fallecido')]\n",
        "  select_department_recup = data.loc[(data['departamento'] == Departamento) & (data['atenci_n'] =='Recuperado')]\n",
        "  select_department_hospit = data.loc[(data['departamento'] == Departamento) & (data['atenci_n'] =='Hospital')]\n",
        "  select_department_UCI = data.loc[(data['departamento'] == Departamento) & (data['atenci_n'] =='Hospital UCI')]\n",
        "  select_department_En_Casa = data.loc[(data['departamento'] == Departamento) & (data['atenci_n'] =='Casa')]\n",
        "  print('En departamento de ' + Departamento + ' hay: ')\n",
        "\n",
        "print('Casos Positivos = ' + str(select_department.shape[0]))\n",
        "print('Casos Importados  = ' + str(select_department_tipo_Imp.shape[0]))\n",
        "print('Casos Relacionados/en Estudio  = ' + str(select_department_tipo.shape[0]))\n",
        "print('Recuperados = ' + str(select_department_recup.shape[0]))\n",
        "print('En Casa = ' + str(select_department_En_Casa.shape[0]))\n",
        "print('Hospitalizados = ' + str(select_department_hospit.shape[0]))\n",
        "print('Hospitalizados/UCI = ' + str(select_department_UCI.shape[0]))\n",
        "print('Fallecidos = ' + str(select_department_fallec.shape[0]))\n",
        "print()\n",
        "dates_diaf = data.loc[(data['fis'] =='Asintomático')].to_numpy()\n",
        "if dates_diaf.size>0 :\n",
        "  data.loc[(data['fis'] =='Asintomático'),['fis']] = dates_diaf[:,1]\n",
        "  data.fis = pd.to_datetime(data.fis)\n",
        "\n",
        "df = select_department_tipo.groupby(by='fis').count()\n",
        "df_array = df.to_numpy()\n",
        "NI_infected_cases = df_array[:,0]\n",
        "Total_NI_infected_cases = np.cumsum(NI_infected_cases,0)\n",
        "time_vector = pd.to_datetime(df.index)\n",
        "#time_vector = datetime(df.index.to_numpy()).fromisoformat()\n",
        "tv = (time_vector-time_vector[0])\n",
        "cumulcases = Total_NI_infected_cases-Total_NI_infected_cases[0]+1\n",
        "\n",
        "\n",
        "\n",
        "# Pie chart, where the slices will be ordered and plotted counter-clockwise:\n",
        "labels = 'En Casa', 'Hospitalizados', 'Hospitalizados/UCI'\n",
        "sizes = [select_department_En_Casa.shape[0], select_department_hospit.shape[0], select_department_UCI.shape[0]]\n",
        "explode = (0, 0, 0.1)  # only \"explode\" the 2nd slice (i.e. 'UCI')\n",
        "\n",
        "fig1, ax1 = plt.subplots()\n",
        "ax1.pie(sizes, explode=explode, labels=labels, autopct='%1.1f%%',\n",
        "        shadow=True, startangle=90)\n",
        "ax1.axis('equal')  # Equal aspect ratio ensures that pie is drawn as a circle.\n",
        "plt.show()\n",
        "\n",
        "print('Reporte diario de contagio basado en fecha de inicio de síntomas')\n",
        "f, ax = plt.subplots(1,1,figsize=(10,4))\n",
        "ax.bar(time_vector.date,NI_infected_cases,align='edge')\n",
        "ax.set_xlabel('Fechas')\n",
        "ax.set_ylabel('Infectados (personas)')\n",
        "ax.yaxis.set_tick_params(length=0)\n",
        "ax.xaxis.set_tick_params(length=0)\n",
        "#ax.grid(b=True, which='major', c='w', lw=2, ls='-')\n",
        "#legend = ax.legend()\n",
        "#legend.get_frame().set_alpha(0.5)\n",
        "for spine in ('top', 'right', 'bottom', 'left'):\n",
        "      ax.spines[spine].set_visible(True)\n",
        "plt.show();\n",
        "print('Curva acumulada de contagios')\n",
        "f, ax = plt.subplots(1,1,figsize=(10,4))\n",
        "ax.bar(time_vector.date,cumulcases,align='edge')\n",
        "ax.set_xlabel('Fechas')\n",
        "ax.set_ylabel('Infectados (personas)')\n",
        "ax.yaxis.set_tick_params(length=0)\n",
        "ax.xaxis.set_tick_params(length=0)\n",
        "#ax.grid(b=True, which='major', c='w', lw=2, ls='-')\n",
        "#legend = ax.legend()\n",
        "#legend.get_frame().set_alpha(0.5)\n",
        "for spine in ('top', 'right', 'bottom', 'left'):\n",
        "      ax.spines[spine].set_visible(True)\n",
        "plt.show();\n",
        "\n",
        "\n",
        "f, ax = plt.subplots(1,1,figsize=(10,4))\n",
        "ax.plot(time_vector.date,np.log(cumulcases))\n",
        "ax.set_xlabel('Fechas')\n",
        "ax.set_ylabel('$\\log(Infectados)$')\n",
        "ax.yaxis.set_tick_params(length=0)\n",
        "ax.xaxis.set_tick_params(length=0)\n",
        "#ax.grid(b=True, which='major', c='w', lw=2, ls='-')\n",
        "#legend = ax.legend()\n",
        "#legend.get_frame().set_alpha(0.5)\n",
        "for spine in ('top', 'right', 'bottom', 'left'):\n",
        "      ax.spines[spine].set_visible(True)\n",
        "plt.show();\n",
        "Rtraw = 14.0*np.diff(np.log(cumulcases))\n",
        "Rfilt = sgnl.filtfilt([0.3333, 0.3333, 0.3333],[1.0],Rtraw)\n",
        "print('Visualización del R_t tasa de contagio')\n",
        "f, ax = plt.subplots(1,1,figsize=(10,4))\n",
        "ax.plot(time_vector.date[1:],Rtraw,color='green',label='$R_t$ diario')\n",
        "ax.plot(time_vector.date[1:],Rfilt,color='red',label='$R_t$ suavizado')\n",
        "ax.plot([time_vector.date[0],time_vector.date[-1]], [1,1 ],'b--',label='$R_t=1$')\n",
        "ax.set_xlabel('Fechas')\n",
        "ax.set_ylabel('$R_t$')\n",
        "ax.yaxis.set_tick_params(length=0)\n",
        "ax.xaxis.set_tick_params(length=0)\n",
        "ax.grid(b=True, which='major', c='w', lw=2, ls='-')\n",
        "legend = ax.legend()\n",
        "legend.get_frame().set_alpha(0.5)\n",
        "for spine in ('top', 'right', 'bottom', 'left'):\n",
        "      ax.spines[spine].set_visible(True)\n",
        "plt.show();\n",
        "#@markdown ---"
      ],
      "execution_count": 10,
      "outputs": [
        {
          "output_type": "stream",
          "text": [
            "Fecha y hora del Reporte : \n",
            "2020-04-23 00:45:39 UTC\n",
            "En departamento de Huila hay: \n",
            "Casos Positivos = 81\n",
            "Casos Importados  = 9\n",
            "Casos Relacionados/en Estudio  = 72\n",
            "Recuperados = 26\n",
            "En Casa = 39\n",
            "Hospitalizados = 7\n",
            "Hospitalizados/UCI = 4\n",
            "Fallecidos = 5\n",
            "\n"
          ],
          "name": "stdout"
        },
        {
          "output_type": "display_data",
          "data": {
            "image/png": "[encoded data removed]",
            "text/plain": [
              "<Figure size 432x288 with 1 Axes>"
            ]
          },
          "metadata": {
            "tags": []
          }
        },
        {
          "output_type": "stream",
          "text": [
            "Reporte diario de contagio basado en fecha de inicio de síntomas\n"
          ],
          "name": "stdout"
        },
        {
          "output_type": "display_data",
          "data": {
            "image/png": "[encoded data removed]",
            "text/plain": [
              "<Figure size 720x288 with 1 Axes>"
            ]
          },
          "metadata": {
            "tags": [],
            "needs_background": "light"
          }
        },
        {
          "output_type": "stream",
          "text": [
            "Curva acumulada de contagios\n"
          ],
          "name": "stdout"
        },
        {
          "output_type": "display_data",
          "data": {
            "image/png": "[encoded data removed]",
            "text/plain": [
              "<Figure size 720x288 with 1 Axes>"
            ]
          },
          "metadata": {
            "tags": [],
            "needs_background": "light"
          }
        },
        {
          "output_type": "display_data",
          "data": {
            "image/png": "[encoded data removed]",
            "text/plain": [
              "<Figure size 720x288 with 1 Axes>"
            ]
          },
          "metadata": {
            "tags": [],
            "needs_background": "light"
          }
        },
        {
          "output_type": "stream",
          "text": [
            "Visualización del R_t tasa de contagio\n"
          ],
          "name": "stdout"
        },
        {
          "output_type": "display_data",
          "data": {
            "image/png": "[encoded data removed]",
            "text/plain": [
              "<Figure size 720x288 with 1 Axes>"
            ]
          },
          "metadata": {
            "tags": [],
            "needs_background": "light"
          }
        }
      ]
    }
  ]
}